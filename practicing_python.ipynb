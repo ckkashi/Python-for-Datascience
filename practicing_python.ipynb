{
 "cells": [
  {
   "attachments": {},
   "cell_type": "markdown",
   "metadata": {},
   "source": [
    "# **Python Basics**"
   ]
  },
  {
   "cell_type": "code",
   "execution_count": 2,
   "metadata": {},
   "outputs": [],
   "source": [
    "a=1\n",
    "b=1.5\n",
    "c='2'\n"
   ]
  },
  {
   "cell_type": "code",
   "execution_count": 4,
   "metadata": {},
   "outputs": [
    {
     "name": "stdout",
     "output_type": "stream",
     "text": [
      "<class 'int'>\n",
      "<class 'float'>\n",
      "<class 'str'>\n"
     ]
    }
   ],
   "source": [
    "print(type(a))\n",
    "print(type(b))\n",
    "print(type(c))"
   ]
  },
  {
   "cell_type": "code",
   "execution_count": 13,
   "metadata": {},
   "outputs": [
    {
     "data": {
      "text/plain": [
       "-15"
      ]
     },
     "execution_count": 13,
     "metadata": {},
     "output_type": "execute_result"
    }
   ],
   "source": [
    "a=eval(input(\"Enter expression : \"))\n",
    "a"
   ]
  },
  {
   "cell_type": "code",
   "execution_count": 17,
   "metadata": {},
   "outputs": [
    {
     "name": "stdout",
     "output_type": "stream",
     "text": [
      "current number is  0  previous number is  0  sum is  0\n",
      "current number is  1  previous number is  0  sum is  1\n",
      "current number is  2  previous number is  1  sum is  3\n",
      "current number is  3  previous number is  2  sum is  5\n",
      "current number is  4  previous number is  3  sum is  7\n",
      "current number is  5  previous number is  4  sum is  9\n",
      "current number is  6  previous number is  5  sum is  11\n",
      "current number is  7  previous number is  6  sum is  13\n",
      "current number is  8  previous number is  7  sum is  15\n",
      "current number is  9  previous number is  8  sum is  17\n"
     ]
    }
   ],
   "source": [
    "# Print the sum of the current number and the previous number\n",
    "for i in range(0,10) :\n",
    "    if i>0 :\n",
    "        print(\"current number is \",i,\" previous number is \",i-1,\" sum is \",i+(i-1))\n",
    "    else:\n",
    "        print(\"current number is \",i,\" previous number is \",i,\" sum is \",i+(i))"
   ]
  },
  {
   "cell_type": "code",
   "execution_count": 22,
   "metadata": {},
   "outputs": [
    {
     "name": "stdout",
     "output_type": "stream",
     "text": [
      "H\n",
      "l\n",
      "o\n",
      "o\n",
      "l\n"
     ]
    }
   ],
   "source": [
    "# Print characters from a string that are present at an even index number\n",
    "text = \"HelloWorld\"\n",
    "for i in range(0,len(text)) : \n",
    "    if i%2 == 0 :\n",
    "        print(text[i])"
   ]
  },
  {
   "cell_type": "code",
   "execution_count": 32,
   "metadata": {},
   "outputs": [
    {
     "data": {
      "text/plain": [
       "'orld'"
      ]
     },
     "execution_count": 32,
     "metadata": {},
     "output_type": "execute_result"
    }
   ],
   "source": [
    "# Remove first n characters from a string\n",
    "def remove_chars(text,n):\n",
    "    a=text[n:len(text)]\n",
    "    return a\n",
    "\n",
    "remove_chars(text,6)"
   ]
  },
  {
   "cell_type": "code",
   "execution_count": 36,
   "metadata": {},
   "outputs": [
    {
     "name": "stdout",
     "output_type": "stream",
     "text": [
      "First and last element are same.\n"
     ]
    }
   ],
   "source": [
    "# Check if the first and last number of a list is the same\n",
    "a = [25,10,60,34,25]\n",
    "if a[0] == a[len(a)-1] :\n",
    "    print(\"First and last element are same.\")\n",
    "else:\n",
    "    print(\"First and last element are not same.\")"
   ]
  },
  {
   "cell_type": "code",
   "execution_count": 38,
   "metadata": {},
   "outputs": [
    {
     "name": "stdout",
     "output_type": "stream",
     "text": [
      "10  is divisible by 5.\n",
      "20  is divisible by 5.\n",
      "55  is divisible by 5.\n"
     ]
    }
   ],
   "source": [
    "# Display numbers divisible by 5 from a list\n",
    "a = [10,20,33,46,55]\n",
    "for i in range(0,len(a)):\n",
    "    if a[i]%5==0:\n",
    "        print(a[i],\" is divisible by 5.\")"
   ]
  },
  {
   "cell_type": "code",
   "execution_count": 54,
   "metadata": {},
   "outputs": [
    {
     "name": "stdout",
     "output_type": "stream",
     "text": [
      "0\n"
     ]
    }
   ],
   "source": [
    "# Return the count of a given substring from a string\n",
    "text = \"Emma is good developer. Emma is a writer\"\n",
    "find = \"Emma\"\n",
    "counter = 0\n",
    "appearance = 0\n",
    "for i in range(0,len(text)-(len(find)+1)) :\n",
    "    for j in range(0,len(find)):\n",
    "        if counter<len(find)-1 :\n",
    "            if find[j] == text[i] and find[j+1] == text[i+1]:\n",
    "                counter = counter + 1\n",
    "                if counter==len(find) :\n",
    "                    appearance = appearance+1\n",
    "                    counter=0\n",
    "                    break\n",
    "        \n",
    "            else:\n",
    "                continue\n",
    "        else :\n",
    "            continue\n",
    "\n",
    "print(appearance)"
   ]
  },
  {
   "cell_type": "code",
   "execution_count": 55,
   "metadata": {},
   "outputs": [
    {
     "data": {
      "text/plain": [
       "2"
      ]
     },
     "execution_count": 55,
     "metadata": {},
     "output_type": "execute_result"
    }
   ],
   "source": [
    "# Return the count of a given substring from a string\n",
    "text = \"Emma is good developer. Emma is a writer\"\n",
    "find = \"Emma\"\n",
    "text.count(find)"
   ]
  },
  {
   "cell_type": "code",
   "execution_count": null,
   "metadata": {},
   "outputs": [],
   "source": []
  }
 ],
 "metadata": {
  "kernelspec": {
   "display_name": "Python 3.9.12 ('base')",
   "language": "python",
   "name": "python3"
  },
  "language_info": {
   "codemirror_mode": {
    "name": "ipython",
    "version": 3
   },
   "file_extension": ".py",
   "mimetype": "text/x-python",
   "name": "python",
   "nbconvert_exporter": "python",
   "pygments_lexer": "ipython3",
   "version": "3.9.12"
  },
  "orig_nbformat": 4,
  "vscode": {
   "interpreter": {
    "hash": "3988e17106745d2267e74f3ce89ea36a17d1f3a45a225ba85b1d4045079be537"
   }
  }
 },
 "nbformat": 4,
 "nbformat_minor": 2
}
